{
 "cells": [
  {
   "cell_type": "markdown",
   "id": "47d4e486",
   "metadata": {},
   "source": [
    "# Algorytm Grovera"
   ]
  },
  {
   "cell_type": "markdown",
   "id": "ffb94bca",
   "metadata": {},
   "source": [
    "Opis"
   ]
  },
  {
   "cell_type": "code",
   "execution_count": 94,
   "id": "3016bfa2",
   "metadata": {},
   "outputs": [],
   "source": [
    "import matplotlib.pyplot as plt\n",
    "import numpy as np\n",
    "from qiskit import QuantumCircuit, QuantumRegister, ClassicalRegister\n",
    "from qiskit.visualization import plot_histogram\n",
    "from qiskit_aer import AerSimulator\n",
    "from qiskit_aer.primitives import Sampler\n",
    "from qiskit.transpiler.preset_passmanagers import generate_preset_pass_manager\n",
    "from copy import deepcopy"
   ]
  },
  {
   "cell_type": "code",
   "execution_count": null,
   "id": "8683962b",
   "metadata": {},
   "outputs": [],
   "source": [
    "def create_nice_bar_plot(data_dict):\n",
    "    \n",
    "    categories = data_dict.keys()\n",
    "    valuesdict = None\n",
    "    valuesdict = data_dict.copy()\n",
    "    values = [ v for v in valuesdict.values() ]\n",
    "    for index,value in enumerate(values):\n",
    "        values[index] = round(value, 4)\n",
    "    fig, ax = plt.subplots(figsize=(10, 6))\n",
    "    bars = ax.bar(categories, values, alpha=0.8, edgecolor='black', linewidth=0.5)\n",
    "    \n",
    "    ax.set_xlabel('Possible states', fontsize=12, fontweight='bold')\n",
    "    ax.set_ylabel('State coordinates', fontsize=12, fontweight='bold')\n",
    "    ax.set_title('Algorithm Performance Comparison', fontsize=14, fontweight='bold')\n",
    "    ax.set_ylim(0, max(values))\n",
    "    \n",
    "    for bar, value in zip(bars, values):\n",
    "        height = bar.get_height()\n",
    "        ax.text(bar.get_x() + bar.get_width()/2., height / 5,\n",
    "                f'{value}%', ha='center', va='bottom', fontweight='bold')\n",
    "    \n",
    "    ax.grid(axis='y', alpha=0.3, linestyle='--')\n",
    "    ax.spines['top'].set_visible(False)\n",
    "    ax.spines['right'].set_visible(False)\n",
    "    ax.spines['left'].set_linewidth(0.5)\n",
    "    ax.spines['bottom'].set_linewidth(0.5)\n",
    "\n",
    "    plt.xticks(rotation=45, ha='right')    \n",
    "    plt.tight_layout()\n",
    "    \n",
    "    return fig, ax"
   ]
  },
  {
   "cell_type": "code",
   "execution_count": 130,
   "id": "7e79be8c",
   "metadata": {},
   "outputs": [
    {
     "name": "stdout",
     "output_type": "stream",
     "text": [
      "Quasi‑probability distribution:\n",
      "{0: 0.2626953125, 2: 0.234375, 1: 0.2705078125, 3: 0.232421875}\n"
     ]
    }
   ],
   "source": [
    "from qiskit import QuantumCircuit, ClassicalRegister, QuantumRegister\n",
    "from qiskit_aer.primitives import Sampler\n",
    "\n",
    "n = 2\n",
    "cr = ClassicalRegister(n)\n",
    "qr = QuantumRegister(n)\n",
    "qc = QuantumCircuit(qr, cr)\n",
    "\n",
    "for qubit in qr:\n",
    "    qc.h(qubit)\n",
    "\n",
    "for i in range(n):\n",
    "    qc.measure(qr[i], cr[i])\n",
    "\n",
    "sampler = Sampler()\n",
    "job     = sampler.run(qc)\n",
    "result  = job.result()\n",
    "quasi   = result.quasi_dists[0]\n",
    "\n",
    "print(\"Quasi‑probability distribution:\")\n",
    "print(quasi)"
   ]
  },
  {
   "cell_type": "code",
   "execution_count": 131,
   "id": "abd84e7a",
   "metadata": {},
   "outputs": [
    {
     "data": {
      "image/png": "[encoded data removed]",
      "text/plain": [
       "<Figure size 407.771x284.278 with 1 Axes>"
      ]
     },
     "execution_count": 131,
     "metadata": {},
     "output_type": "execute_result"
    }
   ],
   "source": [
    "qc.draw(\"mpl\")"
   ]
  },
  {
   "cell_type": "code",
   "execution_count": 132,
   "id": "6839542b",
   "metadata": {},
   "outputs": [],
   "source": [
    "class GroverAlgorithm:\n",
    "    \"\"\"\n",
    "    Implementation of Grover's Algorithm for quantum database search\n",
    "    \"\"\"\n",
    "    \n",
    "    def __init__(self, marked_items, num_qubits):\n",
    "        \"\"\"\n",
    "        Initialize Grover's algorithm\n",
    "        \n",
    "        Args:\n",
    "            marked_items: List of items to search for (binary strings)\n",
    "            num_qubits: Number of qubits needed\n",
    "        \"\"\"\n",
    "        self.marked_items = marked_items\n",
    "        self.num_qubits = num_qubits\n",
    "        self.num_items = 2 ** num_qubits\n",
    "        \n",
    "    def create_oracle(self):\n",
    "        \"\"\"\n",
    "        Step 1: Create the oracle that marks the target items\n",
    "        The oracle flips the phase of the marked items\n",
    "        \"\"\"\n",
    "        oracle = QuantumCircuit(self.num_qubits, name='Oracle')\n",
    "        \n",
    "        for marked_item in self.marked_items:\n",
    "            # Convert binary string to integer\n",
    "            if isinstance(marked_item, str):\n",
    "                marked_value = int(marked_item, 2)\n",
    "            else:\n",
    "                marked_value = marked_item\n",
    "            \n",
    "            # Create the oracle for this specific marked item\n",
    "            # Flip bits where the marked item has 0s\n",
    "            for qubit in range(self.num_qubits):\n",
    "                if not (marked_value >> qubit) & 1:\n",
    "                    oracle.x(qubit)\n",
    "            \n",
    "            # Multi-controlled Z gate (phase flip)\n",
    "            if self.num_qubits == 1:\n",
    "                oracle.z(0)\n",
    "            elif self.num_qubits == 2:\n",
    "                oracle.cz(0, 1)\n",
    "            else:\n",
    "                # For more qubits, use multi-controlled Z\n",
    "                oracle.h(self.num_qubits - 1)\n",
    "                oracle.mcx(list(range(self.num_qubits - 1)), self.num_qubits - 1)\n",
    "                oracle.h(self.num_qubits - 1)\n",
    "            \n",
    "            # Flip bits back\n",
    "            for qubit in range(self.num_qubits):\n",
    "                if not (marked_value >> qubit) & 1:\n",
    "                    oracle.x(qubit)\n",
    "        \n",
    "        return oracle\n",
    "    \n",
    "    def create_diffuser(self):\n",
    "        \"\"\"\n",
    "        Step 2: Create the diffusion operator (amplitude amplification)\n",
    "        This performs inversion about average\n",
    "        \"\"\"\n",
    "        diffuser = QuantumCircuit(self.num_qubits, name='Diffuser')\n",
    "        \n",
    "        # Apply H gates\n",
    "        diffuser.h(range(self.num_qubits))\n",
    "        \n",
    "        # Apply X gates\n",
    "        diffuser.x(range(self.num_qubits))\n",
    "        \n",
    "        # Multi-controlled Z gate\n",
    "        if self.num_qubits == 1:\n",
    "            diffuser.z(0)\n",
    "        elif self.num_qubits == 2:\n",
    "            diffuser.cz(0, 1)\n",
    "        else:\n",
    "            diffuser.h(self.num_qubits - 1)\n",
    "            diffuser.mcx(list(range(self.num_qubits - 1)), self.num_qubits - 1)\n",
    "            diffuser.h(self.num_qubits - 1)\n",
    "        \n",
    "        # Apply X gates\n",
    "        diffuser.x(range(self.num_qubits))\n",
    "        \n",
    "        # Apply H gates\n",
    "        diffuser.h(range(self.num_qubits))\n",
    "        \n",
    "        return diffuser\n",
    "    \n",
    "    def calculate_iterations(self):\n",
    "        \"\"\"\n",
    "        Step 3: Calculate optimal number of iterations\n",
    "        For M marked items out of N total items: π/4 * √(N/M)\n",
    "        \"\"\"\n",
    "        M = len(self.marked_items)  # Number of marked items\n",
    "        N = self.num_items  # Total number of items\n",
    "        \n",
    "        optimal_iterations = int(np.pi / 4 * np.sqrt(N / M))\n",
    "        return optimal_iterations\n",
    "    \n",
    "    def create_grover_circuit(self):\n",
    "        \"\"\"\n",
    "        Step 4: Create the complete Grover circuit\n",
    "        \"\"\"\n",
    "        # Create quantum and classical registers\n",
    "        qreg = QuantumRegister(self.num_qubits)\n",
    "        creg = ClassicalRegister(self.num_qubits)\n",
    "        circuit = QuantumCircuit(qreg, creg)\n",
    "        \n",
    "        # Step 1: Initialize superposition (equal amplitude for all states)\n",
    "        circuit.h(qreg)\n",
    "        circuit.barrier()\n",
    "        \n",
    "        # Step 2: Apply Grover iterations\n",
    "        oracle = self.create_oracle()\n",
    "        diffuser = self.create_diffuser()\n",
    "        iterations = self.calculate_iterations()\n",
    "        \n",
    "        print(f\"Applying {iterations} Grover iterations...\")\n",
    "        \n",
    "        for i in range(iterations):\n",
    "            # Apply oracle\n",
    "            circuit.compose(oracle, qreg, inplace=True)\n",
    "            circuit.barrier()\n",
    "            \n",
    "            # Apply diffuser\n",
    "            circuit.compose(diffuser, qreg, inplace=True)\n",
    "            circuit.barrier()\n",
    "        \n",
    "        # Step 3: Measure\n",
    "        circuit.measure(qreg, creg)\n",
    "        \n",
    "        return circuit\n",
    "    \n",
    "    def run_simulation(self, shots=1024):\n",
    "        \"\"\"\n",
    "        Step 5: Run the algorithm and analyze results\n",
    "        \"\"\"\n",
    "        circuit = self.create_grover_circuit()\n",
    "        \n",
    "        # Use Aer simulator\n",
    "        simulator = AerSimulator()\n",
    "        \n",
    "        # Transpile circuit for the simulator\n",
    "        pm = generate_preset_pass_manager(backend=simulator, optimization_level=1)\n",
    "        transpiled_circuit = pm.run(circuit)\n",
    "        \n",
    "        # Run the simulation\n",
    "        job = simulator.run(transpiled_circuit, shots=shots)\n",
    "        result = job.result()\n",
    "        counts = result.get_counts()\n",
    "        \n",
    "        return circuit, counts\n",
    "\n",
    "def demonstrate_grover():\n",
    "    \"\"\"\n",
    "    Demonstrate Grover's algorithm with a concrete example\n",
    "    \"\"\"\n",
    "    print(\"=== GROVER'S ALGORITHM DEMONSTRATION ===\\n\")\n",
    "    \n",
    "    # Example: Search for items '10' and '11' in a 2-qubit system\n",
    "    marked_items = ['10']  # Binary strings\n",
    "    num_qubits = 2\n",
    "    \n",
    "    print(f\"Searching for items: {marked_items}\")\n",
    "    print(f\"Number of qubits: {num_qubits}\")\n",
    "    print(f\"Total search space: {2**num_qubits} items\")\n",
    "    \n",
    "    # Create Grover instance\n",
    "    grover = GroverAlgorithm(marked_items, num_qubits)\n",
    "    \n",
    "    # Run the algorithm\n",
    "    circuit, counts = grover.run_simulation(shots=1024)\n",
    "    \n",
    "    print(f\"\\nResults after {grover.calculate_iterations()} iterations:\")\n",
    "    print(\"Measurement counts:\", counts)\n",
    "    \n",
    "    # Calculate success probability\n",
    "    total_shots = sum(counts.values())\n",
    "    success_count = sum(counts.get(item, 0) for item in marked_items)\n",
    "    success_probability = success_count / total_shots\n",
    "    \n",
    "    print(f\"Success probability: {success_probability:.3f}\")\n",
    "    print(f\"Expected theoretical success probability: ~{1.0:.3f}\")\n",
    "    \n",
    "    return circuit, counts\n"
   ]
  },
  {
   "cell_type": "code",
   "execution_count": 133,
   "id": "38043352",
   "metadata": {},
   "outputs": [
    {
     "name": "stdout",
     "output_type": "stream",
     "text": [
      "Creating nice bar plot...\n"
     ]
    },
    {
     "data": {
      "image/png": "[encoded data removed]",
      "text/plain": [
       "<Figure size 1000x600 with 1 Axes>"
      ]
     },
     "metadata": {},
     "output_type": "display_data"
    },
    {
     "name": "stdout",
     "output_type": "stream",
     "text": [
      "\n",
      "==================================================\n",
      "=== GROVER'S ALGORITHM DEMONSTRATION ===\n",
      "\n",
      "Searching for items: ['10']\n",
      "Number of qubits: 2\n",
      "Total search space: 4 items\n",
      "Applying 1 Grover iterations...\n",
      "\n",
      "Results after 1 iterations:\n",
      "Measurement counts: {'10': 1024}\n",
      "Success probability: 1.000\n",
      "Expected theoretical success probability: ~1.000\n",
      "\n",
      "Creating visualization...\n",
      "\n",
      "Grover Circuit:\n"
     ]
    }
   ],
   "source": [
    "if __name__ == \"__main__\":\n",
    "    # Create nice bar plot\n",
    "    print(\"Creating nice bar plot...\")\n",
    "    fig, ax = create_nice_bar_plot(quasi)\n",
    "    plt.show()\n",
    "    \n",
    "    print(\"\\n\" + \"=\"*50)\n",
    "    \n",
    "    # Demonstrate Grover's algorithm\n",
    "    circuit, counts = demonstrate_grover()\n",
    "    \n",
    "    # Visualize results\n",
    "    print(\"\\nCreating visualization...\")\n",
    "    plot_histogram(counts, title=\"Grover's Algorithm Results\")\n",
    "    plt.show()\n",
    "    \n",
    "    # Print circuit\n",
    "    print(\"\\nGrover Circuit:\")\n"
   ]
  },
  {
   "cell_type": "code",
   "execution_count": null,
   "id": "f3a867d0",
   "metadata": {},
   "outputs": [
    {
     "data": {
      "image/png": "[encoded data removed]",
      "text/plain": [
       "<Figure size 1327.49x284.278 with 1 Axes>"
      ]
     },
     "execution_count": 134,
     "metadata": {},
     "output_type": "execute_result"
    },
    {
     "ename": "",
     "evalue": "",
     "output_type": "error",
     "traceback": [
      "\u001b[1;31mThe Kernel crashed while executing code in the current cell or a previous cell. \n",
      "\u001b[1;31mPlease review the code in the cell(s) to identify a possible cause of the failure. \n",
      "\u001b[1;31mClick <a href='https://aka.ms/vscodeJupyterKernelCrash'>here</a> for more info. \n",
      "\u001b[1;31mView Jupyter <a href='command:jupyter.viewOutput'>log</a> for further details."
     ]
    }
   ],
   "source": [
    "circuit.draw(\"mpl\")"
   ]
  },
  {
   "cell_type": "code",
   "execution_count": null,
   "id": "5250282d",
   "metadata": {},
   "outputs": [],
   "source": []
  }
 ],
 "metadata": {
  "kernelspec": {
   "display_name": ".venv",
   "language": "python",
   "name": "python3"
  },
  "language_info": {
   "codemirror_mode": {
    "name": "ipython",
    "version": 3
   },
   "file_extension": ".py",
   "mimetype": "text/x-python",
   "name": "python",
   "nbconvert_exporter": "python",
   "pygments_lexer": "ipython3",
   "version": "3.11.9"
  }
 },
 "nbformat": 4,
 "nbformat_minor": 5
}
